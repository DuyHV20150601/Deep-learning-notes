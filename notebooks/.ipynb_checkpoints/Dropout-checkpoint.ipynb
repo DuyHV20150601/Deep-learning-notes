{
 "cells": [
  {
   "cell_type": "markdown",
   "metadata": {},
   "source": [
    "   Trong quá trình training một model luôn luôn phải có 2 tập data , train data(tập này sử  dụng mục đích để 'dạy' cho model học)và test data(tập này cho ta thấy được việc dự đoán chính xác của model trên tập mà model chưa được dạy).Sau khi quá trình training hoàn tất model sẽ gặp phải 2 tình huống không mong muốn xảy ra là overfitting hoặc underfitting.\n",
    "    Việc xuật hiện 2 tình huống overfitting và underfitting cũng thường xảy ra trong cuộc sống hằng ngày.Ví dụ :<br>\n",
    "    Có 2 bạn học sinh là A và B tham gia kì thi tốt nghiệp THPT 2019 vừa qua.Bạn A cố gằng cày cố các đề thi năm trước lẫn các bài tập và làm đi làm lại các đề ấy nhiều lần đến khi bạn ấy chỉ nhìn sơ qua cũng biết kết quả không cần tính toán nhưng đến kì thi thật các bài chưa gặp bạn ấy lại không làm tốt nhưng những bài bạn ấy đã gặp thì làm tốt, trường hợp này thì đa phần sĩ tử khi đi thi đều gặp không phải hiếm.Bạn B cũng cày cố ôn bài các bài tập của thầy cô cho và các đề năm trước .Khi đến kì thi thật thì các bài mà bạn đó chưa gặp lại có xu hướng làm tốt hơn con những bài mặc dù đã gặp qua thì làm không tốt bằng, trường hợp này cũng không ít khi đi thi nên có câu 'học tài thi phận'.\n",
    "    Ở ví dụ trên là minh họa cho 2 model , model A là bị overfitting tập train đưa ra kết quả quá tốt nhưng tập test thì kết quả không tốt bằng còn model B là bị underfitting tập train kết quả không tốt bằng tập test.\n",
    "Để giải quyết 2 trường hợp trên có một vài phương pháp giúp model được tốt hơn :<br>\n",
    "Với Underfitting:<br>\n",
    "<ul>\n",
    "<li>Giảm lượng tham số của model xuống , ví dụ nếu dùng neural network chỉ cần giảm lượng layer hoặc số node trong một layer</li> \n",
    "<li>Tăng số lượng epochs (giống như vòng lập của quá trình trainning) trong quá trình training lên để model được học lâu hơn</li>\n",
    "</ul>\n",
    "Với overfitting :<br>\n",
    "<ul>\n",
    "<li>Stopping early , phương pháp này đơn giản nhất chỉ cần lưu lại kết quả của những epoch trước đó và giữ trọng số tốt nhất.</li>\n",
    "<li>Data augmentation, phương pháp này làm giàu dữ liệu nếu tăng dữ liệu lên sẽ giúp tránh khỏi việc overfitting.</li>\n",
    "<li>Dropout , đây là phương pháp chính để áp dụng cho bài học sẽ được nói ở phần dưới.</li>\n",
    "</ul>"
   ]
  },
  {
   "cell_type": "markdown",
   "metadata": {},
   "source": [
    "<h1>Dropout</h1>"
   ]
  },
  {
   "cell_type": "markdown",
   "metadata": {},
   "source": [
    "Ý tưởng chính của dropout là sau mỗi lần train qua các layer của neural network sẽ điều chỉnh ngẫu nhiên trong node trong layer đó có giá trị bằng 0 (có thể xem node bằng 0 đó giống như là không có node đó xuất hiện tham gia  training).<br>\n",
    "<div>\n",
    "<img src = '../img/dropout_1.png' alt ='hình minh họa'/> <em>Hình 1/Cấu trúc mạng nơ-ron chưa dropout<br> Nguồn : analyticsvidhya.com . </em>\n",
    "    <img src = '../img/dropout_2.png' alt ='hình minh họa'/> <em>Hình 2 /Cấu trúc mạng nơ-ron đã thêm dropout<br> Nguồn : analyticsvidhya.com. </em>\n",
    "</div><br>\n",
    "Ở 2 hình trên , hình 1 hiển thị cho mạng nơ-ron chưa thêm dropout và hình 2 hiển thị mạng nơ-ron đã thêm dropout .Khi sử dụng dropout , số lượng node trong layer ngẫu nhiên bằng 0 cũng có thể xem như node đó không xuất hiện dẫn đến cấu trúc mạng thay đổi ở mỗi lần training vì thế kết quả cuối cùng của training được tập hợp từ nhiều mạng nơ-ron nhỏ (vì dropout cho các node ngẫu nhiên 'biến mất' có thể xem mạng nơ-ron bị thu nhỏ lại) có mạng nơ-ron khác nhau (ý tưởng này giống với cách hoạt động của esemble learning).<br>\n",
    "Dưới đây là một bài tập mẫu về trường hợp overfitting sử dụng tập dataset MNIST.Mạng nơ-ron dưới đây là một mạng đơn giản có 3 lớp tất cả gồm input , 1 layer fully connected layer (dense layer) kèm theo một activation relu và 1 output."
   ]
  },
  {
   "cell_type": "code",
   "execution_count": 1,
   "metadata": {},
   "outputs": [
    {
     "name": "stdout",
     "output_type": "stream",
     "text": [
      "0/Train-loss : 0.765,accuracy : 0.538.Test-Loss : 0.631,accuracy : 0.647 \n",
      "10/Train-loss : 0.33,accuracy : 0.891.Test-Loss : 0.444,accuracy : 0.814 \n",
      "20/Train-loss : 0.268,accuracy : 0.925.Test-Loss : 0.416,accuracy : 0.827 \n",
      "30/Train-loss : 0.234,accuracy : 0.945.Test-Loss : 0.41,accuracy : 0.827 \n",
      "40/Train-loss : 0.213,accuracy : 0.958.Test-Loss : 0.412,accuracy : 0.823 \n",
      "50/Train-loss : 0.197,accuracy : 0.967.Test-Loss : 0.418,accuracy : 0.821 \n",
      "60/Train-loss : 0.185,accuracy : 0.97.Test-Loss : 0.424,accuracy : 0.816 \n",
      "70/Train-loss : 0.176,accuracy : 0.977.Test-Loss : 0.432,accuracy : 0.81 \n",
      "80/Train-loss : 0.169,accuracy : 0.977.Test-Loss : 0.439,accuracy : 0.808 \n",
      "90/Train-loss : 0.163,accuracy : 0.983.Test-Loss : 0.445,accuracy : 0.804 \n",
      "100/Train-loss : 0.158,accuracy : 0.988.Test-Loss : 0.451,accuracy : 0.801 \n",
      "110/Train-loss : 0.153,accuracy : 0.991.Test-Loss : 0.457,accuracy : 0.798 \n",
      "120/Train-loss : 0.15,accuracy : 0.993.Test-Loss : 0.463,accuracy : 0.794 \n",
      "130/Train-loss : 0.146,accuracy : 0.993.Test-Loss : 0.468,accuracy : 0.792 \n",
      "140/Train-loss : 0.143,accuracy : 0.996.Test-Loss : 0.474,accuracy : 0.788 \n",
      "150/Train-loss : 0.141,accuracy : 0.996.Test-Loss : 0.479,accuracy : 0.785 \n",
      "160/Train-loss : 0.138,accuracy : 0.996.Test-Loss : 0.484,accuracy : 0.782 \n",
      "170/Train-loss : 0.136,accuracy : 0.996.Test-Loss : 0.489,accuracy : 0.779 \n",
      "180/Train-loss : 0.134,accuracy : 0.996.Test-Loss : 0.493,accuracy : 0.778 \n",
      "190/Train-loss : 0.133,accuracy : 0.996.Test-Loss : 0.498,accuracy : 0.775 \n",
      "200/Train-loss : 0.131,accuracy : 0.996.Test-Loss : 0.502,accuracy : 0.772 \n",
      "210/Train-loss : 0.129,accuracy : 0.997.Test-Loss : 0.506,accuracy : 0.771 \n",
      "220/Train-loss : 0.128,accuracy : 0.998.Test-Loss : 0.51,accuracy : 0.769 \n",
      "230/Train-loss : 0.126,accuracy : 0.998.Test-Loss : 0.513,accuracy : 0.767 \n",
      "240/Train-loss : 0.125,accuracy : 0.998.Test-Loss : 0.517,accuracy : 0.766 \n",
      "250/Train-loss : 0.124,accuracy : 0.998.Test-Loss : 0.52,accuracy : 0.763 \n",
      "260/Train-loss : 0.123,accuracy : 0.998.Test-Loss : 0.524,accuracy : 0.762 \n",
      "270/Train-loss : 0.122,accuracy : 0.998.Test-Loss : 0.527,accuracy : 0.761 \n",
      "280/Train-loss : 0.121,accuracy : 0.998.Test-Loss : 0.53,accuracy : 0.76 \n",
      "290/Train-loss : 0.12,accuracy : 0.998.Test-Loss : 0.534,accuracy : 0.76 \n",
      "300/Train-loss : 0.119,accuracy : 0.998.Test-Loss : 0.537,accuracy : 0.758 \n",
      "310/Train-loss : 0.118,accuracy : 0.998.Test-Loss : 0.54,accuracy : 0.757 \n",
      "320/Train-loss : 0.117,accuracy : 0.998.Test-Loss : 0.543,accuracy : 0.756 \n",
      "330/Train-loss : 0.116,accuracy : 0.998.Test-Loss : 0.546,accuracy : 0.753 \n",
      "340/Train-loss : 0.115,accuracy : 0.998.Test-Loss : 0.549,accuracy : 0.751 \n",
      "350/Train-loss : 0.115,accuracy : 0.998.Test-Loss : 0.552,accuracy : 0.75 \n",
      "360/Train-loss : 0.114,accuracy : 0.999.Test-Loss : 0.555,accuracy : 0.75 \n",
      "370/Train-loss : 0.113,accuracy : 0.999.Test-Loss : 0.557,accuracy : 0.749 \n",
      "380/Train-loss : 0.113,accuracy : 0.999.Test-Loss : 0.56,accuracy : 0.748 \n",
      "390/Train-loss : 0.112,accuracy : 0.999.Test-Loss : 0.563,accuracy : 0.747 \n"
     ]
    }
   ],
   "source": [
    "import tensorflow as tf\n",
    "from tensorflow import keras \n",
    "import numpy as np\n",
    "\n",
    "mnist = tf.keras.datasets.mnist\n",
    "(X_train, y_train),(X_test, y_test) = mnist.load_data()\n",
    "\n",
    "def relu(x):\n",
    "    return (x > 0)*x\n",
    "\n",
    "def relu_deri(x):\n",
    "    return x>=0\n",
    "\n",
    "images_train =  X_train[0:1000].reshape(1000,28*28)/255\n",
    "images_test = X_test[0:10000].reshape(10000,28*28)/255\n",
    "\n",
    "labels_train = tf.keras.utils.to_categorical(y_train[0:1000],10)\n",
    "labels_test = tf.keras.utils.to_categorical(y_test,10)\n",
    "\n",
    "hidden_layer =100\n",
    "num_class = 10\n",
    "learning_rate = 0.003\n",
    "size_img = 28*28\n",
    "\n",
    "W_1 = 0.2*np.random.random((size_img,hidden_layer)) -0.1\n",
    "W_2 = 0.2*np.random.random((hidden_layer,num_class)) - 0.1\n",
    "loss_train_chart = []\n",
    "loss_test_chart = []\n",
    "acc_train_chart = []\n",
    "acc_test_chart = []\n",
    "for epoch in range(400):\n",
    "    loss_train = 0.0\n",
    "    acc_train = 0\n",
    "    for i in range(len(images_train)):\n",
    "        L_0 = images_train[i:i+1]      \n",
    "        L_1 = relu(np.dot(L_0,W_1)) \n",
    "        L_2 =  np.dot(L_1,W_2) \n",
    "        L_2_error = (labels_train[i:i+1] - L_2)\n",
    "        L_1_error = L_2_error.dot(W_2.T)*relu_deri(L_1)\n",
    "        W_2 +=  learning_rate*L_1.T.dot(L_2_error)\n",
    "        W_1 += learning_rate*L_0.T.dot(L_1_error)\n",
    "        loss_train += np.sum((labels_train[i:i+1] -L_2)**2)\n",
    "        acc_train  += int(np.argmax(labels_train[i:i+1]) == np.argmax(L_2))\n",
    "    \n",
    "    #print(\"Train {} : loss : {},accuracy : {}\".format(interator,round(loss/len(images_train),3),round(acc/len(images_train),3)))\n",
    "    loss_train_chart.append(round(loss_train/len(images_train),3))\n",
    "    acc_train_chart.append(round(acc_train/len(images_train),3))\n",
    "    loss_test = 0.0\n",
    "    acc_test = 0\n",
    "    for i in range(len(images_test)):\n",
    "        L_0 = images_test[i:i+1]\n",
    "        L_1 = relu(np.dot(L_0,W_1))\n",
    "        L_2 = np.dot(L_1,W_2)\n",
    "        loss_test += np.sum((labels_test[i:i+1] -L_2)**2)\n",
    "        acc_test  += int(np.argmax(labels_test[i:i+1]) == np.argmax(L_2))\n",
    "    loss_test_chart.append(round(loss_test/len(images_test),3))\n",
    "    acc_test_chart.append(round(acc_test/len(images_test),3))\n",
    "    if (epoch %10 ==0):    \n",
    "        print(\"{}/Train-loss : {},accuracy : {}.Test-Loss : {},accuracy : {} \"\n",
    "           .format(epoch,round(loss_train/len(images_train),3),round(acc_train/len(images_train),3),\n",
    "                   round(loss_test/len(images_test),3),round(acc_test/len(images_test),3)))"
   ]
  },
  {
   "cell_type": "markdown",
   "metadata": {},
   "source": [
    "Kết quả ta thấy mô hình đã bị overfitting khi accuracy của tập train đạt 99.9% còn test là 74,7% , kết quả cho ta thấy model học qua khớp với train còn test học không tốt bằng.Tiếp theo là ví dụ thêm dropout vào mô hình ,và thêm phía sau layer 1 (L_1)."
   ]
  },
  {
   "cell_type": "code",
   "execution_count": 22,
   "metadata": {},
   "outputs": [
    {
     "data": {
      "image/png": "[encoded data removed]",
      "text/plain": [
       "<Figure size 720x288 with 2 Axes>"
      ]
     },
     "metadata": {
      "needs_background": "light"
     },
     "output_type": "display_data"
    }
   ],
   "source": [
    "import matplotlib.pyplot as plt \n",
    "plt.figure(figsize=(10,4))\n",
    "epochs = [i for i in range(len(acc_train_chart))]\n",
    "plt.subplot(121)\n",
    "plt.plot(epochs,loss_train_chart,'-r',label='train')\n",
    "plt.plot(epochs,loss_test_chart,'-b',label='test')\n",
    "plt.xlabel('epoch')\n",
    "plt.ylabel('loss')\n",
    "plt.legend()\n",
    "plt.subplot(122)\n",
    "plt.plot(epochs,acc_train_chart,'-r',label='train')\n",
    "plt.plot(epochs,acc_test_chart,'-b',label='test')\n",
    "plt.xlabel('epoch')\n",
    "plt.ylabel('accuracy')\n",
    "plt.legend()\n",
    "plt.show()\n"
   ]
  },
  {
   "cell_type": "markdown",
   "metadata": {},
   "source": [
    "Ở 2 biểu đồ trên biểu thị cho quá trình thay đổi qua từng epoch, ta thấy cả giá trị loss và accuracy của model khi chạy qua tập train và tập test đều không tương quan với nhau."
   ]
  },
  {
   "cell_type": "code",
   "execution_count": 25,
   "metadata": {},
   "outputs": [
    {
     "name": "stdout",
     "output_type": "stream",
     "text": [
      "0/Train-loss : 1.048,accuracy : 0.28.Test-Loss : 0.723,accuracy : 0.568 \n",
      "10/Train-loss : 0.597,accuracy : 0.622.Test-Loss : 0.505,accuracy : 0.78 \n",
      "20/Train-loss : 0.541,accuracy : 0.711.Test-Loss : 0.472,accuracy : 0.799 \n",
      "30/Train-loss : 0.539,accuracy : 0.711.Test-Loss : 0.465,accuracy : 0.817 \n",
      "40/Train-loss : 0.524,accuracy : 0.728.Test-Loss : 0.453,accuracy : 0.815 \n",
      "50/Train-loss : 0.506,accuracy : 0.74.Test-Loss : 0.441,accuracy : 0.819 \n",
      "60/Train-loss : 0.484,accuracy : 0.768.Test-Loss : 0.452,accuracy : 0.811 \n",
      "70/Train-loss : 0.479,accuracy : 0.777.Test-Loss : 0.422,accuracy : 0.818 \n",
      "80/Train-loss : 0.489,accuracy : 0.788.Test-Loss : 0.444,accuracy : 0.813 \n",
      "90/Train-loss : 0.494,accuracy : 0.785.Test-Loss : 0.458,accuracy : 0.817 \n",
      "100/Train-loss : 0.461,accuracy : 0.788.Test-Loss : 0.44,accuracy : 0.817 \n",
      "110/Train-loss : 0.459,accuracy : 0.788.Test-Loss : 0.433,accuracy : 0.812 \n",
      "120/Train-loss : 0.453,accuracy : 0.801.Test-Loss : 0.43,accuracy : 0.823 \n",
      "130/Train-loss : 0.462,accuracy : 0.801.Test-Loss : 0.421,accuracy : 0.822 \n",
      "140/Train-loss : 0.455,accuracy : 0.801.Test-Loss : 0.417,accuracy : 0.813 \n",
      "150/Train-loss : 0.464,accuracy : 0.808.Test-Loss : 0.434,accuracy : 0.816 \n",
      "160/Train-loss : 0.434,accuracy : 0.818.Test-Loss : 0.418,accuracy : 0.808 \n",
      "170/Train-loss : 0.431,accuracy : 0.818.Test-Loss : 0.417,accuracy : 0.819 \n",
      "180/Train-loss : 0.436,accuracy : 0.82.Test-Loss : 0.407,accuracy : 0.825 \n",
      "190/Train-loss : 0.452,accuracy : 0.817.Test-Loss : 0.42,accuracy : 0.816 \n",
      "200/Train-loss : 0.41,accuracy : 0.826.Test-Loss : 0.417,accuracy : 0.809 \n",
      "210/Train-loss : 0.46,accuracy : 0.811.Test-Loss : 0.435,accuracy : 0.801 \n",
      "220/Train-loss : 0.423,accuracy : 0.83.Test-Loss : 0.44,accuracy : 0.81 \n",
      "230/Train-loss : 0.436,accuracy : 0.821.Test-Loss : 0.433,accuracy : 0.811 \n",
      "240/Train-loss : 0.425,accuracy : 0.832.Test-Loss : 0.424,accuracy : 0.809 \n",
      "250/Train-loss : 0.43,accuracy : 0.829.Test-Loss : 0.421,accuracy : 0.808 \n",
      "260/Train-loss : 0.422,accuracy : 0.831.Test-Loss : 0.433,accuracy : 0.8 \n",
      "270/Train-loss : 0.417,accuracy : 0.835.Test-Loss : 0.434,accuracy : 0.796 \n",
      "280/Train-loss : 0.416,accuracy : 0.827.Test-Loss : 0.42,accuracy : 0.807 \n",
      "290/Train-loss : 0.433,accuracy : 0.824.Test-Loss : 0.438,accuracy : 0.797 \n",
      "300/Train-loss : 0.403,accuracy : 0.848.Test-Loss : 0.442,accuracy : 0.792 \n",
      "310/Train-loss : 0.42,accuracy : 0.835.Test-Loss : 0.428,accuracy : 0.791 \n",
      "320/Train-loss : 0.431,accuracy : 0.834.Test-Loss : 0.438,accuracy : 0.796 \n",
      "330/Train-loss : 0.431,accuracy : 0.832.Test-Loss : 0.438,accuracy : 0.791 \n",
      "340/Train-loss : 0.404,accuracy : 0.83.Test-Loss : 0.434,accuracy : 0.796 \n",
      "350/Train-loss : 0.428,accuracy : 0.826.Test-Loss : 0.431,accuracy : 0.793 \n",
      "360/Train-loss : 0.422,accuracy : 0.83.Test-Loss : 0.434,accuracy : 0.797 \n",
      "370/Train-loss : 0.431,accuracy : 0.84.Test-Loss : 0.452,accuracy : 0.783 \n",
      "380/Train-loss : 0.405,accuracy : 0.847.Test-Loss : 0.438,accuracy : 0.803 \n",
      "390/Train-loss : 0.424,accuracy : 0.839.Test-Loss : 0.439,accuracy : 0.783 \n"
     ]
    }
   ],
   "source": [
    "hidden_layer =100\n",
    "num_class = 10\n",
    "learning_rate = 0.003\n",
    "size_img = 28*28\n",
    "keep_prob = 0.3\n",
    "W_1 = 0.2*np.random.random((size_img,hidden_layer)) -0.1\n",
    "W_2 = 0.2*np.random.random((hidden_layer,num_class)) - 0.1\n",
    "loss_train_chart = []\n",
    "loss_test_chart = []\n",
    "acc_train_chart = []\n",
    "acc_test_chart = []\n",
    "for it in range(400):\n",
    "    loss_train = 0.0\n",
    "    acc_train = 0\n",
    "    for i in range(len(images_train)):\n",
    "        #forward progation\n",
    "        L_0 = images_train[i:i+1]      \n",
    "        L_1 = relu(np.dot(L_0,W_1)) \n",
    "        dropout = np.random.rand(L_1.shape[0],L_1.shape[1])\n",
    "        dropout = dropout < keep_prob\n",
    "        L_1 = np.multiply(L_1,dropout)\n",
    "        L_1 = L_1/keep_prob\n",
    "        L_2 =  np.dot(L_1,W_2) \n",
    "        L_2_error = (labels_train[i:i+1] - L_2)\n",
    "        #backprogation \n",
    "        L_1_error = L_2_error.dot(W_2.T)*relu_deri(L_1)\n",
    "        L_1_error = np.multiply(dropout,L_1_error)\n",
    "        L_1_error = L_1_error/keep_prob\n",
    "        W_2 +=  learning_rate*L_1.T.dot(L_2_error)\n",
    "        W_1 += learning_rate*L_0.T.dot(L_1_error)\n",
    "        loss_train += np.sum((labels_train[i:i+1] -L_2)**2)\n",
    "        acc_train  += int(np.argmax(labels_train[i:i+1]) == np.argmax(L_2))\n",
    "    loss_train_chart.append(round(loss_train/len(images_train),3))\n",
    "    acc_train_chart.append(round(acc_train/len(images_train),3))\n",
    "    loss_test = 0.0\n",
    "    acc_test = 0\n",
    "    for i in range(len(images_test)):\n",
    "        L_0 = images_test[i:i+1]\n",
    "        L_1 = relu(np.dot(L_0,W_1))\n",
    "        L_2 = np.dot(L_1,W_2)\n",
    "        loss_test += np.sum((labels_test[i:i+1] -L_2)**2)\n",
    "        acc_test  += int(np.argmax(labels_test[i:i+1]) == np.argmax(L_2))\n",
    "    loss_test_chart.append(round(loss_test/len(images_test),3))\n",
    "    acc_test_chart.append(round(acc_test/len(images_test),3))\n",
    "    if (it %10 ==0):    \n",
    "        print(\"{}/Train-loss : {},accuracy : {}.Test-Loss : {},accuracy : {} \"\n",
    "           .format(it,round(loss_train/len(images_train),3),round(acc_train/len(images_train),3),\n",
    "                   round(loss_test/len(images_test),3),round(acc_test/len(images_test),3)))"
   ]
  },
  {
   "cell_type": "code",
   "execution_count": 26,
   "metadata": {},
   "outputs": [
    {
     "data": {
      "image/png": "[encoded data removed]",
      "text/plain": [
       "<Figure size 720x288 with 2 Axes>"
      ]
     },
     "metadata": {
      "needs_background": "light"
     },
     "output_type": "display_data"
    }
   ],
   "source": [
    "import matplotlib.pyplot as plt \n",
    "plt.figure(figsize=(10,4))\n",
    "epochs = [i for i in range(len(acc_train_chart))]\n",
    "plt.subplot(121)\n",
    "plt.plot(epochs,loss_train_chart,'-r',label='train')\n",
    "plt.plot(epochs,loss_test_chart,'-b',label='test')\n",
    "plt.xlabel('epoch')\n",
    "plt.ylabel('loss')\n",
    "plt.legend()\n",
    "plt.subplot(122)\n",
    "plt.plot(epochs,acc_train_chart,'-r',label='train')\n",
    "plt.plot(epochs,acc_test_chart,'-b',label='test')\n",
    "plt.xlabel('epoch')\n",
    "plt.ylabel('accuracy')\n",
    "plt.legend()\n",
    "plt.show()"
   ]
  },
  {
   "cell_type": "markdown",
   "metadata": {},
   "source": [
    "Ở đây ta thấy đồ thị đã được cãi thiện đáng kể cả chạy trên train và test thì giá trị của model đều tương quan với nhau."
   ]
  },
  {
   "cell_type": "markdown",
   "metadata": {},
   "source": [
    "Giải thích :"
   ]
  },
  {
   "cell_type": "markdown",
   "metadata": {},
   "source": [
    "<b>dropout = np.random.rand(L_1.shape[0],L_1.shape[1])</b><br>\n",
    "droput cũng giống như 1 layer trong mạng nơ-ron ta cần phải lưu ý chiều của layer sử dụng dropout.<br>\n",
    "<b>dropout = dropout \t&lt; keep_prob </b>\n",
    "keep_prob có thể được hiểu rằng ngưỡng xác định để ở mỗi node trong layer dropout tương ứng cần được để không bị lọt vào diều kiện bằng 0 , xem như node đó không xuất hiện tham gia training trong model đó.<br>\n",
    "<b>L_1 = np.multiply(L_1,dropout)</b><br>\n",
    "kích hoạt dropout vào layer 1 nếu nhân với 0 trong dropout xem như node trong L_1 không tham gia training trong model<br>\n",
    "<b>L_1 = L_1/keep_prob</b><br>\n",
    "Vì hàm random có dãy số từ 0 đến 1 nên l_1 nhân với dropout sau khi nhân xanh cần phải được scale lại"
   ]
  },
  {
   "cell_type": "markdown",
   "metadata": {},
   "source": [
    "Ở kết quả cuối cùng tập train đạt được 83,5% accuracy và test là 79,6% như vậy model này sắp đạt được cầu hình hoàn hảo cân bằng được độ chính xác giữa train và test."
   ]
  },
  {
   "cell_type": "markdown",
   "metadata": {},
   "source": [
    "<h1>Nguồn tham khảo:</h1>\n",
    "<ul>\n",
    "    <li>https://iamtrask.github.io/2015/07/28/dropout/</li>\n",
    "    <li>Grooking deep learning , Andrew A. Trask. </li>\n",
    "    <li> https://www.analyticsvidhya.com/blog/2018/04/fundamentals-deep-learning-regularization-techniques/</li>\n",
    "    <li> https://www.kaggle.com/mtax687/dropout-regularization-of-neural-net-using-numpy?fbclid=IwAR3w3Cwijdy_94e5ZCfOA4jCxqJkXs_f2QCP0QeL8Njl5NtwNKc44L2HaBE</li>\n",
    "</ul>"
   ]
  }
 ],
 "metadata": {
  "kernelspec": {
   "display_name": "Python 3",
   "language": "python",
   "name": "python3"
  },
  "language_info": {
   "codemirror_mode": {
    "name": "ipython",
    "version": 3
   },
   "file_extension": ".py",
   "mimetype": "text/x-python",
   "name": "python",
   "nbconvert_exporter": "python",
   "pygments_lexer": "ipython3",
   "version": "3.5.2"
  }
 },
 "nbformat": 4,
 "nbformat_minor": 2
}
