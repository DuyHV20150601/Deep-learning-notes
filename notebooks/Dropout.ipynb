{
 "cells": [
  {
   "cell_type": "code",
   "execution_count": 1,
   "metadata": {},
   "outputs": [],
   "source": [
    "import tensorflow as tf\n",
    "from tensorflow import keras \n",
    "import numpy as np"
   ]
  },
  {
   "cell_type": "code",
   "execution_count": 2,
   "metadata": {},
   "outputs": [],
   "source": [
    "mnist = tf.keras.datasets.mnist"
   ]
  },
  {
   "cell_type": "code",
   "execution_count": 3,
   "metadata": {},
   "outputs": [],
   "source": [
    "(X_train, y_train),(X_test, y_test) = mnist.load_data()"
   ]
  },
  {
   "cell_type": "code",
   "execution_count": 4,
   "metadata": {},
   "outputs": [],
   "source": [
    "def relu(x):\n",
    "    return (x > 0)*x"
   ]
  },
  {
   "cell_type": "code",
   "execution_count": 5,
   "metadata": {},
   "outputs": [],
   "source": [
    "def relu_deri(x):\n",
    "    return x>=0"
   ]
  },
  {
   "cell_type": "code",
   "execution_count": 19,
   "metadata": {},
   "outputs": [],
   "source": [
    "images =  X_train.reshape(60000,28*28)/255"
   ]
  },
  {
   "cell_type": "code",
   "execution_count": 20,
   "metadata": {},
   "outputs": [],
   "source": [
    "labels = tf.keras.utils.to_categorical(y_train,10)"
   ]
  },
  {
   "cell_type": "code",
   "execution_count": null,
   "metadata": {},
   "outputs": [
    {
     "name": "stdout",
     "output_type": "stream",
     "text": [
      "loss : 1174.205550038941,accuracy : 0.09871666666666666\n",
      "loss : 1.0,accuracy : 0.09871666666666666\n",
      "loss : 1.0,accuracy : 0.09871666666666666\n",
      "loss : 1.0,accuracy : 0.09871666666666666\n",
      "loss : 1.0,accuracy : 0.09871666666666666\n",
      "loss : 1.0,accuracy : 0.09871666666666666\n"
     ]
    }
   ],
   "source": [
    "hidden_layer =100\n",
    "num_class = 10\n",
    "learning_rate = 0.03\n",
    "W_1 = np.random.random((images.shape[1],hidden_layer))\n",
    "W_2 = np.random.random((hidden_layer,num_class))\n",
    "for interator in range(1000):\n",
    "    loss = 0.0\n",
    "    acc = 0\n",
    "    for i in range(len(images)):\n",
    "        L_0 = images[i:i+1]      \n",
    "        L_1 = relu(np.dot(L_0,W_1)) \n",
    "        L_2 =  np.dot(L_1,W_2) \n",
    "        L_2_error = (labels[i:i+1] - L_2)\n",
    "        L_1_error = L_2_error.dot(W_2.T)*relu_deri(L_1)\n",
    "        W_2 +=  learning_rate*L_1.T.dot(L_2_error)\n",
    "        W_1 += learning_rate*L_0.T.dot(L_1_error)\n",
    "        loss += np.sum((labels[i:i+1] -L_2)**2)\n",
    "        acc  += int(np.argmax(labels[i:i+1]) == np.argmax(L_2))\n",
    "    print(\"loss : {},accuracy : {}\".format(loss/len(images),acc/len(images)))"
   ]
  },
  {
   "cell_type": "code",
   "execution_count": null,
   "metadata": {},
   "outputs": [],
   "source": []
  }
 ],
 "metadata": {
  "kernelspec": {
   "display_name": "Python 3",
   "language": "python",
   "name": "python3"
  },
  "language_info": {
   "codemirror_mode": {
    "name": "ipython",
    "version": 3
   },
   "file_extension": ".py",
   "mimetype": "text/x-python",
   "name": "python",
   "nbconvert_exporter": "python",
   "pygments_lexer": "ipython3",
   "version": "3.5.2"
  }
 },
 "nbformat": 4,
 "nbformat_minor": 2
}
