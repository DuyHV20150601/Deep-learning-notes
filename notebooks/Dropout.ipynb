{
 "cells": [
  {
   "cell_type": "markdown",
   "metadata": {},
   "source": [
    "   Trong quá trình training một model luôn luôn phải có 2 tập data , train data(tập này sử  dụng mục đích để 'dạy' cho model học)và test data(tập này cho ta thấy được việc dự đoán chính xác của model trên tập mà model chưa được dạy).Sau khi quá trình training hoàn tất model sẽ gặp phải 2 tình huống không mong muốn xảy ra là overfitting hoặc underfitting.\n",
    "    Việc xuật hiện 2 tình huống overfitting và underfitting cũng thường xảy ra trong cuộc sống hằng ngày.Ví dụ :<br>\n",
    "    Có 2 bạn học sinh là A và B tham gia kì thi tốt nghiệp THPT 2019 vừa qua.Bạn A cố gằng cày cố các đề thi năm trước lẫn các bài tập và làm đi làm lại các đề ấy nhiều lần đến khi bạn ấy chỉ nhìn sơ qua cũng biết kết quả không cần tính toán nhưng đến kì thi thật các bài chưa gặp bạn ấy lại không làm tốt nhưng những bài bạn ấy đã gặp thì làm tốt, trường hợp này thì đa phần sĩ tử khi đi thi đều gặp không phải hiếm.Bạn B 'lười' học hơn nên khi ở nhà các bài tập bạn ấy làm không tốt cho nên khi đi thi kết qủa cũng vậy.<br>\n",
    "    Ở ví dụ trên là minh họa cho 2 model , model A là bị overfitting tập train đưa ra kết quả quá tốt nhưng tập test thì kết quả không tốt bằng , hay nói cách khác model này chỉ tổng quan được những gì đã được học còn những dữ liệu khác không tổng quan tốt được.Model B là bị underfitting tức là khi gặp trường hợp này model sẽ không thể trả về tốt kết quả của tập train và cũng như kết quả tập test.Với underfitting , khi gặp nó rất dễ khắc phục và dễ nhận biết nên ít khi nào trường hợp này được bàn tới còn với overfitting là hiện tượng gặp nhiều hơn và có nhiều phương pháp để giải quyết nó.<br>\n",
    "<img src = '../img/overfitting_and_underfitting.png' alt ='hình minh họa'/> <em>Nguồn [1]: medium.com  </em>\n",
    "<br>\n",
    "Để giải quyết 2 trường hợp trên có một vài phương pháp giúp model được tốt hơn :<br>\n",
    "Với Underfitting:<br>\n",
    "<ul>\n",
    "<li>Giảm lượng tham số của model xuống , ví dụ nếu dùng neural network chỉ cần giảm lượng layer hoặc số node trong một layer</li> \n",
    "<li>Tăng số lượng epochs (giống như vòng lập của quá trình trainning) trong quá trình training lên để model được học lâu hơn</li>\n",
    "</ul>\n",
    "Với overfitting :<br>\n",
    "<ul>\n",
    "<li>Stopping early , phương pháp này đơn giản nhất chỉ cần lưu lại kết quả của những epoch trước đó và giữ trọng số tốt nhất.</li>\n",
    "<li>Data augmentation, phương pháp này làm giàu dữ liệu nếu tăng dữ liệu lên sẽ giúp tránh khỏi việc overfitting.</li>\n",
    "<li>Dropout , đây là phương pháp chính để áp dụng cho bài học sẽ được nói ở phần dưới.</li>\n",
    "</ul>"
   ]
  },
  {
   "cell_type": "markdown",
   "metadata": {},
   "source": [
    "<h1>Dropout</h1>"
   ]
  },
  {
   "cell_type": "markdown",
   "metadata": {},
   "source": [
    "Ý tưởng chính của dropout là sau mỗi lần train qua các layer của neural network sẽ điều chỉnh ngẫu nhiên trong node trong layer đó có giá trị bằng 0 (có thể xem node bằng 0 đó giống như là không có node đó xuất hiện tham gia  training).<br>\n",
    "<div>\n",
    "<img src = '../img/dropout_1.png' alt ='hình minh họa'/> <em>Hình 1/Cấu trúc mạng nơ-ron chưa dropout<br> Nguồn [2]: analyticsvidhya.com. </em>\n",
    "    <img src = '../img/dropout_2.png' alt ='hình minh họa'/> <em>Hình 2 /Cấu trúc mạng nơ-ron đã thêm dropout<br> Nguồn [2]: analyticsvidhya.com.</em>\n",
    "</div><br>\n",
    "Ở 2 hình trên , hình 1 hiển thị cho mạng nơ-ron chưa thêm dropout và hình 2 hiển thị mạng nơ-ron đã thêm dropout .Khi sử dụng dropout , số lượng node trong layer ngẫu nhiên bằng 0 cũng có thể xem như node đó không xuất hiện dẫn đến cấu trúc mạng thay đổi ở mỗi lần training vì thế kết quả cuối cùng của training được tập hợp từ nhiều mạng nơ-ron nhỏ (vì dropout cho các node ngẫu nhiên 'biến mất' có thể xem mạng nơ-ron bị thu nhỏ lại) có mạng nơ-ron khác nhau (ý tưởng này giống với cách hoạt động của esemble learning).<br>\n",
    "Dưới đây là một bài tập mẫu về trường hợp overfitting sử dụng tập dataset MNIST.Mạng nơ-ron dưới đây là một mạng đơn giản có 3 lớp tất cả gồm input , 1 layer fully connected layer (dense layer) kèm theo một activation relu và 1 output."
   ]
  },
  {
   "cell_type": "code",
   "execution_count": 53,
   "metadata": {},
   "outputs": [
    {
     "name": "stdout",
     "output_type": "stream",
     "text": [
      "0/Train-loss : 1.64,accuracy : 0.241.Test-Loss : 0.786,accuracy : 0.429 \n",
      "10/Train-loss : 0.325,accuracy : 0.87.Test-Loss : 0.405,accuracy : 0.811 \n",
      "20/Train-loss : 0.271,accuracy : 0.899.Test-Loss : 0.376,accuracy : 0.832 \n",
      "30/Train-loss : 0.233,accuracy : 0.918.Test-Loss : 0.365,accuracy : 0.838 \n",
      "40/Train-loss : 0.222,accuracy : 0.931.Test-Loss : 0.38,accuracy : 0.826 \n",
      "50/Train-loss : 0.202,accuracy : 0.947.Test-Loss : 0.373,accuracy : 0.835 \n",
      "60/Train-loss : 0.196,accuracy : 0.96.Test-Loss : 0.399,accuracy : 0.828 \n",
      "70/Train-loss : 0.186,accuracy : 0.959.Test-Loss : 0.381,accuracy : 0.823 \n",
      "80/Train-loss : 0.181,accuracy : 0.965.Test-Loss : 0.384,accuracy : 0.822 \n",
      "90/Train-loss : 0.171,accuracy : 0.967.Test-Loss : 0.383,accuracy : 0.833 \n",
      "100/Train-loss : 0.171,accuracy : 0.966.Test-Loss : 0.385,accuracy : 0.825 \n",
      "110/Train-loss : 0.163,accuracy : 0.968.Test-Loss : 0.396,accuracy : 0.813 \n",
      "120/Train-loss : 0.186,accuracy : 0.959.Test-Loss : 0.431,accuracy : 0.789 \n",
      "130/Train-loss : 0.167,accuracy : 0.972.Test-Loss : 0.402,accuracy : 0.81 \n",
      "140/Train-loss : 0.173,accuracy : 0.975.Test-Loss : 0.401,accuracy : 0.812 \n",
      "150/Train-loss : 0.157,accuracy : 0.976.Test-Loss : 0.415,accuracy : 0.804 \n",
      "160/Train-loss : 0.161,accuracy : 0.978.Test-Loss : 0.414,accuracy : 0.803 \n",
      "170/Train-loss : 0.137,accuracy : 0.98.Test-Loss : 0.42,accuracy : 0.818 \n",
      "180/Train-loss : 0.168,accuracy : 0.972.Test-Loss : 0.436,accuracy : 0.802 \n",
      "190/Train-loss : 0.149,accuracy : 0.973.Test-Loss : 0.435,accuracy : 0.801 \n",
      "200/Train-loss : 0.143,accuracy : 0.981.Test-Loss : 0.426,accuracy : 0.792 \n",
      "210/Train-loss : 0.136,accuracy : 0.984.Test-Loss : 0.426,accuracy : 0.791 \n",
      "220/Train-loss : 0.158,accuracy : 0.972.Test-Loss : 0.448,accuracy : 0.781 \n",
      "230/Train-loss : 0.138,accuracy : 0.988.Test-Loss : 0.439,accuracy : 0.798 \n",
      "240/Train-loss : 0.13,accuracy : 0.989.Test-Loss : 0.431,accuracy : 0.782 \n",
      "250/Train-loss : 0.128,accuracy : 0.989.Test-Loss : 0.441,accuracy : 0.795 \n",
      "260/Train-loss : 0.141,accuracy : 0.983.Test-Loss : 0.469,accuracy : 0.781 \n",
      "270/Train-loss : 0.132,accuracy : 0.989.Test-Loss : 0.434,accuracy : 0.784 \n",
      "280/Train-loss : 0.133,accuracy : 0.985.Test-Loss : 0.466,accuracy : 0.777 \n",
      "290/Train-loss : 0.122,accuracy : 0.987.Test-Loss : 0.464,accuracy : 0.786 \n",
      "300/Train-loss : 0.129,accuracy : 0.983.Test-Loss : 0.471,accuracy : 0.779 \n",
      "310/Train-loss : 0.135,accuracy : 0.984.Test-Loss : 0.482,accuracy : 0.78 \n",
      "320/Train-loss : 0.117,accuracy : 0.988.Test-Loss : 0.455,accuracy : 0.789 \n",
      "330/Train-loss : 0.115,accuracy : 0.987.Test-Loss : 0.477,accuracy : 0.781 \n",
      "340/Train-loss : 0.122,accuracy : 0.991.Test-Loss : 0.475,accuracy : 0.77 \n",
      "350/Train-loss : 0.116,accuracy : 0.988.Test-Loss : 0.503,accuracy : 0.764 \n",
      "360/Train-loss : 0.099,accuracy : 0.993.Test-Loss : 0.474,accuracy : 0.759 \n",
      "370/Train-loss : 0.102,accuracy : 0.994.Test-Loss : 0.484,accuracy : 0.766 \n",
      "380/Train-loss : 0.11,accuracy : 0.992.Test-Loss : 0.489,accuracy : 0.779 \n",
      "390/Train-loss : 0.113,accuracy : 0.985.Test-Loss : 0.512,accuracy : 0.767 \n"
     ]
    }
   ],
   "source": [
    "import tensorflow as tf\n",
    "from tensorflow import keras \n",
    "import numpy as np\n",
    "\n",
    "mnist = tf.keras.datasets.mnist\n",
    "(X_train, y_train),(X_test, y_test) = mnist.load_data()\n",
    "\n",
    "def relu(x):\n",
    "    return (x > 0)*x\n",
    "\n",
    "def relu_deri(x):\n",
    "    return x>=0\n",
    "\n",
    "images_train =  X_train[0:1000].reshape(1000,28*28)/255\n",
    "images_test = X_test[0:10000].reshape(10000,28*28)/255\n",
    "\n",
    "labels_train = tf.keras.utils.to_categorical(y_train[0:1000],10)\n",
    "labels_test = tf.keras.utils.to_categorical(y_test,10)\n",
    "\n",
    "hidden_layer =100\n",
    "num_class = 10\n",
    "learning_rate = 0.003\n",
    "size_img = 28*28\n",
    "batch_size = 100\n",
    "W_1 = 0.2*np.random.random((size_img,hidden_layer)) -0.1\n",
    "W_2 = 0.2*np.random.random((hidden_layer,num_class)) - 0.1\n",
    "loss_train_chart = []\n",
    "loss_test_chart = []\n",
    "acc_train_chart = []\n",
    "acc_test_chart = []\n",
    "for epoch in range(400):\n",
    "    loss_train = 0.0\n",
    "    acc_train = 0\n",
    "    for i in range(int(len(images_train)/batch_size)):\n",
    "        batch_start , batch_end =i*batch_size,(i+1)*batch_size \n",
    "        L_0 = images_train[batch_start:batch_end]      \n",
    "        L_1 = relu(np.dot(L_0,W_1)) \n",
    "        L_2 =  np.dot(L_1,W_2) \n",
    "        L_2_error = (labels_train[batch_start:batch_end] - L_2)\n",
    "        L_1_error = L_2_error.dot(W_2.T)*relu_deri(L_1)\n",
    "        W_2 +=  learning_rate*L_1.T.dot(L_2_error)\n",
    "        W_1 += learning_rate*L_0.T.dot(L_1_error)\n",
    "        loss_train += np.sum((labels_train[batch_start:batch_end] -L_2)**2)\n",
    "        for index in range(batch_size):\n",
    "            acc_train  += int(np.argmax(labels_train[batch_start:batch_end][index]) == np.argmax(L_2[index]))\n",
    "    loss_train_chart.append(round(loss_train/len(images_train),3))\n",
    "    acc_train_chart.append(round(acc_train/len(images_train),3))\n",
    "    loss_test = 0.0\n",
    "    acc_test = 0\n",
    "    for i in range(len(images_test)):\n",
    "        L_0 = images_test[i:i+1]\n",
    "        L_1 = relu(np.dot(L_0,W_1))\n",
    "        L_2 = np.dot(L_1,W_2)\n",
    "        loss_test += np.sum((labels_test[i:i+1] -L_2)**2)\n",
    "        acc_test  += int(np.argmax(labels_test[i:i+1]) == np.argmax(L_2))\n",
    "    loss_test_chart.append(round(loss_test/len(images_test),3))\n",
    "    acc_test_chart.append(round(acc_test/len(images_test),3))\n",
    "    if (epoch %10 ==0):    \n",
    "        print(\"{}/Train-loss : {},accuracy : {}.Test-Loss : {},accuracy : {} \"\n",
    "           .format(epoch,round(loss_train/len(images_train),3),round(acc_train/len(images_train),3),\n",
    "                   round(loss_test/len(images_test),3),round(acc_test/len(images_test),3)))"
   ]
  },
  {
   "cell_type": "markdown",
   "metadata": {},
   "source": [
    "Kết quả ta thấy mô hình đã bị overfitting khi accuracy của tập train đạt 99.9% còn test là 74,7% , kết quả cho ta thấy model học qua khớp với train còn test học không tốt bằng.Tiếp theo là ví dụ thêm dropout vào mô hình ,và thêm phía sau layer 1 (L_1)."
   ]
  },
  {
   "cell_type": "code",
   "execution_count": 54,
   "metadata": {},
   "outputs": [
    {
     "data": {
      "image/png": "[encoded data removed]",
      "text/plain": [
       "<Figure size 720x288 with 2 Axes>"
      ]
     },
     "metadata": {
      "needs_background": "light"
     },
     "output_type": "display_data"
    }
   ],
   "source": [
    "import matplotlib.pyplot as plt \n",
    "plt.figure(figsize=(10,4))\n",
    "epochs = [i for i in range(len(acc_train_chart))]\n",
    "plt.subplot(121)\n",
    "plt.plot(epochs,loss_train_chart,'-r',label='train')\n",
    "plt.plot(epochs,loss_test_chart,'-b',label='test')\n",
    "plt.xlabel('epoch')\n",
    "plt.ylabel('loss')\n",
    "plt.legend()\n",
    "plt.subplot(122)\n",
    "plt.plot(epochs,acc_train_chart,'-r',label='train')\n",
    "plt.plot(epochs,acc_test_chart,'-b',label='test')\n",
    "plt.xlabel('epoch')\n",
    "plt.ylabel('accuracy')\n",
    "plt.legend()\n",
    "plt.show()\n"
   ]
  },
  {
   "cell_type": "markdown",
   "metadata": {},
   "source": [
    "Ở 2 biểu đồ trên biểu thị cho quá trình thay đổi qua từng epoch, ta thấy cả giá trị loss và accuracy của model khi chạy qua tập train và tập test đều không tương quan với nhau."
   ]
  },
  {
   "cell_type": "code",
   "execution_count": 56,
   "metadata": {},
   "outputs": [
    {
     "name": "stdout",
     "output_type": "stream",
     "text": [
      "0/Train-loss : 1.284,accuracy : 0.204.Test-Loss : 0.772,accuracy : 0.495 \n",
      "10/Train-loss : 0.564,accuracy : 0.675.Test-Loss : 0.51,accuracy : 0.781 \n",
      "20/Train-loss : 0.552,accuracy : 0.695.Test-Loss : 0.463,accuracy : 0.789 \n",
      "30/Train-loss : 0.508,accuracy : 0.737.Test-Loss : 0.435,accuracy : 0.815 \n",
      "40/Train-loss : 0.501,accuracy : 0.744.Test-Loss : 0.453,accuracy : 0.811 \n",
      "50/Train-loss : 0.485,accuracy : 0.752.Test-Loss : 0.421,accuracy : 0.807 \n",
      "60/Train-loss : 0.484,accuracy : 0.771.Test-Loss : 0.455,accuracy : 0.793 \n",
      "70/Train-loss : 0.475,accuracy : 0.777.Test-Loss : 0.426,accuracy : 0.813 \n",
      "80/Train-loss : 0.481,accuracy : 0.774.Test-Loss : 0.439,accuracy : 0.792 \n",
      "90/Train-loss : 0.447,accuracy : 0.794.Test-Loss : 0.425,accuracy : 0.81 \n",
      "100/Train-loss : 0.457,accuracy : 0.799.Test-Loss : 0.42,accuracy : 0.823 \n",
      "110/Train-loss : 0.463,accuracy : 0.812.Test-Loss : 0.412,accuracy : 0.811 \n",
      "120/Train-loss : 0.449,accuracy : 0.816.Test-Loss : 0.413,accuracy : 0.815 \n",
      "130/Train-loss : 0.451,accuracy : 0.797.Test-Loss : 0.43,accuracy : 0.81 \n",
      "140/Train-loss : 0.448,accuracy : 0.809.Test-Loss : 0.425,accuracy : 0.804 \n",
      "150/Train-loss : 0.44,accuracy : 0.807.Test-Loss : 0.421,accuracy : 0.812 \n",
      "160/Train-loss : 0.444,accuracy : 0.798.Test-Loss : 0.424,accuracy : 0.807 \n",
      "170/Train-loss : 0.448,accuracy : 0.799.Test-Loss : 0.42,accuracy : 0.808 \n",
      "180/Train-loss : 0.443,accuracy : 0.813.Test-Loss : 0.44,accuracy : 0.806 \n",
      "190/Train-loss : 0.437,accuracy : 0.808.Test-Loss : 0.443,accuracy : 0.812 \n",
      "200/Train-loss : 0.426,accuracy : 0.82.Test-Loss : 0.421,accuracy : 0.807 \n",
      "210/Train-loss : 0.438,accuracy : 0.81.Test-Loss : 0.425,accuracy : 0.805 \n",
      "220/Train-loss : 0.432,accuracy : 0.833.Test-Loss : 0.423,accuracy : 0.814 \n",
      "230/Train-loss : 0.438,accuracy : 0.816.Test-Loss : 0.418,accuracy : 0.807 \n",
      "240/Train-loss : 0.452,accuracy : 0.819.Test-Loss : 0.434,accuracy : 0.792 \n",
      "250/Train-loss : 0.445,accuracy : 0.808.Test-Loss : 0.427,accuracy : 0.804 \n",
      "260/Train-loss : 0.423,accuracy : 0.827.Test-Loss : 0.43,accuracy : 0.806 \n",
      "270/Train-loss : 0.451,accuracy : 0.816.Test-Loss : 0.429,accuracy : 0.799 \n",
      "280/Train-loss : 0.456,accuracy : 0.823.Test-Loss : 0.441,accuracy : 0.804 \n",
      "290/Train-loss : 0.414,accuracy : 0.809.Test-Loss : 0.433,accuracy : 0.812 \n",
      "300/Train-loss : 0.419,accuracy : 0.821.Test-Loss : 0.43,accuracy : 0.802 \n",
      "310/Train-loss : 0.424,accuracy : 0.834.Test-Loss : 0.416,accuracy : 0.812 \n",
      "320/Train-loss : 0.419,accuracy : 0.838.Test-Loss : 0.447,accuracy : 0.802 \n",
      "330/Train-loss : 0.445,accuracy : 0.83.Test-Loss : 0.436,accuracy : 0.8 \n",
      "340/Train-loss : 0.421,accuracy : 0.826.Test-Loss : 0.441,accuracy : 0.809 \n",
      "350/Train-loss : 0.444,accuracy : 0.835.Test-Loss : 0.438,accuracy : 0.804 \n",
      "360/Train-loss : 0.434,accuracy : 0.836.Test-Loss : 0.446,accuracy : 0.803 \n",
      "370/Train-loss : 0.427,accuracy : 0.831.Test-Loss : 0.426,accuracy : 0.801 \n",
      "380/Train-loss : 0.431,accuracy : 0.836.Test-Loss : 0.444,accuracy : 0.793 \n",
      "390/Train-loss : 0.416,accuracy : 0.844.Test-Loss : 0.462,accuracy : 0.798 \n"
     ]
    }
   ],
   "source": [
    "import tensorflow as tf\n",
    "from tensorflow import keras \n",
    "import numpy as np\n",
    "\n",
    "mnist = tf.keras.datasets.mnist\n",
    "(X_train, y_train),(X_test, y_test) = mnist.load_data()\n",
    "\n",
    "def relu(x):\n",
    "    return (x > 0)*x\n",
    "\n",
    "def relu_deri(x):\n",
    "    return x>=0\n",
    "\n",
    "images_train =  X_train[0:1000].reshape(1000,28*28)/255\n",
    "images_test = X_test[0:10000].reshape(10000,28*28)/255\n",
    "\n",
    "labels_train = tf.keras.utils.to_categorical(y_train[0:1000],10)\n",
    "labels_test = tf.keras.utils.to_categorical(y_test,10)\n",
    "\n",
    "hidden_layer =100\n",
    "num_class = 10\n",
    "learning_rate = 0.003\n",
    "size_img = 28*28\n",
    "batch_size = 100\n",
    "W_1 = 0.2*np.random.random((size_img,hidden_layer)) -0.1\n",
    "W_2 = 0.2*np.random.random((hidden_layer,num_class)) - 0.1\n",
    "loss_train_chart = []\n",
    "loss_test_chart = []\n",
    "acc_train_chart = []\n",
    "acc_test_chart = []\n",
    "for epoch in range(400):\n",
    "    loss_train = 0.0\n",
    "    acc_train = 0\n",
    "    for i in range(int(len(images_train)/batch_size)):\n",
    "        batch_start , batch_end =i*batch_size,(i+1)*batch_size \n",
    "        L_0 = images_train[batch_start:batch_end]      \n",
    "        L_1 = relu(np.dot(L_0,W_1)) \n",
    "        dropout = np.random.rand(L_1.shape[0],L_1.shape[1])\n",
    "        dropout = dropout < keep_prob\n",
    "        L_1 = np.multiply(L_1,dropout)\n",
    "        L_1 = L_1/keep_prob\n",
    "        L_2 =  np.dot(L_1,W_2) \n",
    "        L_2_error = (labels_train[batch_start:batch_end] - L_2)\n",
    "        L_1_error = L_2_error.dot(W_2.T)*relu_deri(L_1)\n",
    "        L_1_error = np.multiply(dropout,L_1_error)\n",
    "        L_1_error = L_1_error/keep_prob\n",
    "        W_2 +=  learning_rate*L_1.T.dot(L_2_error)\n",
    "        W_1 += learning_rate*L_0.T.dot(L_1_error)\n",
    "        loss_train += np.sum((labels_train[batch_start:batch_end] -L_2)**2)\n",
    "        for index in range(batch_size):\n",
    "            acc_train  += int(np.argmax(labels_train[batch_start:batch_end][index]) == np.argmax(L_2[index]))\n",
    "    loss_train_chart.append(round(loss_train/len(images_train),3))\n",
    "    acc_train_chart.append(round(acc_train/len(images_train),3))\n",
    "    loss_test = 0.0\n",
    "    acc_test = 0\n",
    "    for i in range(len(images_test)):\n",
    "        L_0 = images_test[i:i+1]\n",
    "        L_1 = relu(np.dot(L_0,W_1))\n",
    "        L_2 = np.dot(L_1,W_2)\n",
    "        loss_test += np.sum((labels_test[i:i+1] -L_2)**2)\n",
    "        acc_test  += int(np.argmax(labels_test[i:i+1]) == np.argmax(L_2))\n",
    "    loss_test_chart.append(round(loss_test/len(images_test),3))\n",
    "    acc_test_chart.append(round(acc_test/len(images_test),3))\n",
    "    if (epoch %10 ==0):    \n",
    "        print(\"{}/Train-loss : {},accuracy : {}.Test-Loss : {},accuracy : {} \"\n",
    "           .format(epoch,round(loss_train/len(images_train),3),round(acc_train/len(images_train),3),\n",
    "                   round(loss_test/len(images_test),3),round(acc_test/len(images_test),3)))"
   ]
  },
  {
   "cell_type": "code",
   "execution_count": 57,
   "metadata": {},
   "outputs": [
    {
     "data": {
      "image/png": "[encoded data removed]",
      "text/plain": [
       "<Figure size 720x288 with 2 Axes>"
      ]
     },
     "metadata": {
      "needs_background": "light"
     },
     "output_type": "display_data"
    }
   ],
   "source": [
    "import matplotlib.pyplot as plt \n",
    "plt.figure(figsize=(10,4))\n",
    "epochs = [i for i in range(len(acc_train_chart))]\n",
    "plt.subplot(121)\n",
    "plt.plot(epochs,loss_train_chart,'-r',label='train')\n",
    "plt.plot(epochs,loss_test_chart,'-b',label='test')\n",
    "plt.xlabel('epoch')\n",
    "plt.ylabel('loss')\n",
    "plt.legend()\n",
    "plt.subplot(122)\n",
    "plt.plot(epochs,acc_train_chart,'-r',label='train')\n",
    "plt.plot(epochs,acc_test_chart,'-b',label='test')\n",
    "plt.xlabel('epoch')\n",
    "plt.ylabel('accuracy')\n",
    "plt.legend()\n",
    "plt.show()"
   ]
  },
  {
   "cell_type": "markdown",
   "metadata": {},
   "source": [
    "Ở đây ta thấy đồ thị đã được cãi thiện đáng kể cả chạy trên train và test thì giá trị của model đều tương quan với nhau."
   ]
  },
  {
   "cell_type": "markdown",
   "metadata": {},
   "source": [
    "Giải thích :"
   ]
  },
  {
   "cell_type": "markdown",
   "metadata": {},
   "source": [
    "<b>dropout = np.random.rand(L_1.shape[0],L_1.shape[1])</b><br>\n",
    "droput cũng giống như 1 layer trong mạng nơ-ron ta cần phải lưu ý chiều của layer sử dụng dropout.<br>\n",
    "<b>dropout = dropout \t&lt; keep_prob </b>\n",
    "keep_prob có thể được hiểu rằng ngưỡng xác định để ở mỗi node trong layer dropout tương ứng cần được để không bị lọt vào diều kiện bằng 0 , xem như node đó không xuất hiện tham gia training trong model đó.<br>\n",
    "<b>L_1 = np.multiply(L_1,dropout)</b><br>\n",
    "kích hoạt dropout vào layer 1 nếu nhân với 0 trong dropout xem như node trong L_1 không tham gia training trong model<br>\n",
    "<b>L_1 = L_1/keep_prob</b><br>\n",
    "Vì hàm random có dãy số từ 0 đến 1 nên l_1 nhân với dropout sau khi nhân xanh cần phải được scale lại"
   ]
  },
  {
   "cell_type": "markdown",
   "metadata": {},
   "source": [
    "Ở kết quả cuối cùng tập train đạt được 83,5% accuracy và test là 79,6% như vậy model này sắp đạt được cầu hình hoàn hảo cân bằng được độ chính xác giữa train và test."
   ]
  },
  {
   "cell_type": "markdown",
   "metadata": {},
   "source": [
    "<h1>Nguồn tham khảo:</h1>\n",
    "<ul>\n",
    "        <li>[1] https://medium.com/greyatom/what-is-underfitting-and-overfitting-in-machine-learning-and-how-to-deal-with-it-6803a989c76</li>\n",
    "    <li>[2] https://www.analyticsvidhya.com/blog/2018/04/fundamentals-deep-learning-regularization-techniques/</li>\n",
    "    <li>https://iamtrask.github.io/2015/07/28/dropout/</li>\n",
    "    <li>Grooking deep learning , Andrew A. Trask. </li>\n",
    "    <li> https://www.kaggle.com/mtax687/dropout-regularization-of-neural-net-using-numpy?fbclid=IwAR3w3Cwijdy_94e5ZCfOA4jCxqJkXs_f2QCP0QeL8Njl5NtwNKc44L2HaBE</li>\n",
    "</ul>"
   ]
  }
 ],
 "metadata": {
  "kernelspec": {
   "display_name": "Python 3",
   "language": "python",
   "name": "python3"
  },
  "language_info": {
   "codemirror_mode": {
    "name": "ipython",
    "version": 3
   },
   "file_extension": ".py",
   "mimetype": "text/x-python",
   "name": "python",
   "nbconvert_exporter": "python",
   "pygments_lexer": "ipython3",
   "version": "3.5.2"
  }
 },
 "nbformat": 4,
 "nbformat_minor": 2
}
